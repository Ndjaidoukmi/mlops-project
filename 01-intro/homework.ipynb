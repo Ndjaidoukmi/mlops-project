{
 "cells": [
  {
   "cell_type": "code",
   "execution_count": 82,
   "id": "d3e82a8d-014b-486d-9326-b0c84dad2172",
   "metadata": {},
   "outputs": [],
   "source": [
    "import pandas as pd\n",
    "import seaborn as sns\n",
    "import pickle\n",
    "import matplotlib.pyplot as plt\n",
    "from sklearn.feature_extraction import DictVectorizer\n",
    "from sklearn.linear_model import LinearRegression\n",
    "from sklearn.linear_model import Lasso, Ridge\n",
    "from sklearn.metrics import mean_squared_error"
   ]
  },
  {
   "cell_type": "code",
   "execution_count": 53,
   "id": "c1917876-6de9-4b7e-9de6-4465bdbf3902",
   "metadata": {},
   "outputs": [],
   "source": [
    "def read_dataframe(filename):\n",
    "    data = pd.read_parquet(f\"/home/codespace/dataset/{filename}\")\n",
    "    data.lpep_dropoff_datetime = pd.to_datetime(data.lpep_dropoff_datetime)\n",
    "    data.lpep_pickup_datetime = pd.to_datetime(data.lpep_pickup_datetime)\n",
    "    data[\"duration\"] = data.lpep_dropoff_datetime - data.lpep_pickup_datetime\n",
    "    data.duration = data.duration.apply(lambda x: x.total_seconds()/60)\n",
    "    data = data[(df.duration>=1)& (data.duration<=60)]\n",
    "    categorical = ['PULocationID', 'DOLocationID']\n",
    "    data[categorical] = data[categorical].astype(str)\n",
    "    return data"
   ]
  },
  {
   "cell_type": "code",
   "execution_count": 31,
   "id": "aa3325e2",
   "metadata": {},
   "outputs": [
    {
     "data": {
      "text/plain": [
       "count    1736.000000\n",
       "mean       13.225931\n",
       "std        73.049482\n",
       "min         0.000000\n",
       "50%         1.708333\n",
       "95%        37.358333\n",
       "98%        52.145000\n",
       "99%        65.337500\n",
       "max      1438.983333\n",
       "Name: duration, dtype: float64"
      ]
     },
     "execution_count": 31,
     "metadata": {},
     "output_type": "execute_result"
    }
   ],
   "source": [
    "df.duration.describe(percentiles=[0.95, 0.98, 0.99])"
   ]
  },
  {
   "cell_type": "code",
   "execution_count": 55,
   "id": "4f6a1021",
   "metadata": {},
   "outputs": [],
   "source": [
    "df_train = read_dataframe(\"green_tripdata_2024-01.parquet\")\n",
    "df_val = read_dataframe(\"green_tripdata_2024-02.parquet\")"
   ]
  },
  {
   "cell_type": "code",
   "execution_count": 74,
   "id": "aaa61513",
   "metadata": {},
   "outputs": [],
   "source": [
    "df_train [\"PU_DO\"] = df_train['PULocationID'] + \"_\" + df_train['DOLocationID']\n",
    "df_val [\"PU_DO\"] = df_val['PULocationID'] + \"_\" + df_val['DOLocationID']"
   ]
  },
  {
   "cell_type": "code",
   "execution_count": 77,
   "id": "1cfbd84c",
   "metadata": {},
   "outputs": [],
   "source": [
    "numerical = [\"trip_distance\"]\n",
    "#categorical = ['PULocationID', 'DOLocationID']\n",
    "categorical = ['PU_DO']\n",
    "dv = DictVectorizer()\n",
    "\n",
    "train_dicts = df_train[categorical+numerical].to_dict(orient=\"records\")\n",
    "X_train = dv.fit_transform(train_dicts)\n",
    "\n",
    "val_dicts = df_val[categorical+numerical].to_dict(orient=\"records\")\n",
    "X_val = dv.transform(val_dicts)\n"
   ]
  },
  {
   "cell_type": "code",
   "execution_count": 78,
   "id": "ba97a349",
   "metadata": {},
   "outputs": [
    {
     "name": "stderr",
     "output_type": "stream",
     "text": [
      "/home/codespace/.local/lib/python3.10/site-packages/sklearn/metrics/_regression.py:483: FutureWarning: 'squared' is deprecated in version 1.4 and will be removed in 1.6. To calculate the root mean squared error, use the function'root_mean_squared_error'.\n",
      "  warnings.warn(\n"
     ]
    },
    {
     "data": {
      "text/plain": [
       "10.969890388002392"
      ]
     },
     "execution_count": 78,
     "metadata": {},
     "output_type": "execute_result"
    }
   ],
   "source": [
    "lr = LinearRegression()\n",
    "lr.fit(X_train, y_train)\n",
    "target = \"duration\"\n",
    "y_train = df_train[target].values\n",
    "y_val = df_val[target].values\n",
    "y_pred = lr.predict(X_val)\n",
    "mean_squared_error(y_val, y_pred, squared=False)"
   ]
  },
  {
   "cell_type": "code",
   "execution_count": 79,
   "id": "ccd18d26",
   "metadata": {},
   "outputs": [
    {
     "name": "stderr",
     "output_type": "stream",
     "text": [
      "/tmp/ipykernel_2979/1505421196.py:1: UserWarning: \n",
      "\n",
      "`distplot` is a deprecated function and will be removed in seaborn v0.14.0.\n",
      "\n",
      "Please adapt your code to use either `displot` (a figure-level function with\n",
      "similar flexibility) or `histplot` (an axes-level function for histograms).\n",
      "\n",
      "For a guide to updating your code to use the new functions, please see\n",
      "https://gist.github.com/mwaskom/de44147ed2974457ad6372750bbe5751\n",
      "\n",
      "  sns.distplot(y_pred, label='prediction')\n",
      "/tmp/ipykernel_2979/1505421196.py:2: UserWarning: \n",
      "\n",
      "`distplot` is a deprecated function and will be removed in seaborn v0.14.0.\n",
      "\n",
      "Please adapt your code to use either `displot` (a figure-level function with\n",
      "similar flexibility) or `histplot` (an axes-level function for histograms).\n",
      "\n",
      "For a guide to updating your code to use the new functions, please see\n",
      "https://gist.github.com/mwaskom/de44147ed2974457ad6372750bbe5751\n",
      "\n",
      "  sns.distplot(y_train, label='actual')\n"
     ]
    },
    {
     "data": {
      "text/plain": [
       "<matplotlib.legend.Legend at 0x762e534bada0>"
      ]
     },
     "execution_count": 79,
     "metadata": {},
     "output_type": "execute_result"
    },
    {
     "data": {
      "image/png": "[encoded data removed]",
      "text/plain": [
       "<Figure size 640x480 with 1 Axes>"
      ]
     },
     "metadata": {},
     "output_type": "display_data"
    }
   ],
   "source": [
    "sns.distplot(y_pred, label='prediction')\n",
    "sns.distplot(y_train, label='actual')\n",
    "plt.legend()"
   ]
  },
  {
   "cell_type": "code",
   "execution_count": 81,
   "id": "ca68c657",
   "metadata": {},
   "outputs": [
    {
     "name": "stderr",
     "output_type": "stream",
     "text": [
      "/home/codespace/.local/lib/python3.10/site-packages/sklearn/metrics/_regression.py:483: FutureWarning: 'squared' is deprecated in version 1.4 and will be removed in 1.6. To calculate the root mean squared error, use the function'root_mean_squared_error'.\n",
      "  warnings.warn(\n"
     ]
    },
    {
     "data": {
      "text/plain": [
       "8.790693269302077"
      ]
     },
     "execution_count": 81,
     "metadata": {},
     "output_type": "execute_result"
    }
   ],
   "source": [
    "lr = Lasso(alpha=0.05)\n",
    "lr.fit(X_train, y_train)\n",
    "target = \"duration\"\n",
    "y_train = df_train[target].values\n",
    "y_val = df_val[target].values\n",
    "y_pred = lr.predict(X_val)\n",
    "mean_squared_error(y_val, y_pred, squared=False)"
   ]
  },
  {
   "cell_type": "code",
   "execution_count": 84,
   "id": "74a9d382",
   "metadata": {},
   "outputs": [],
   "source": [
    "with open(\"/home/codespace/models/lin_reg.bin\", \"wb\") as f_out:\n",
    "    pickle.dump((dv, lr), f_out)"
   ]
  },
  {
   "cell_type": "code",
   "execution_count": null,
   "id": "0b84e358",
   "metadata": {},
   "outputs": [],
   "source": []
  }
 ],
 "metadata": {
  "kernelspec": {
   "display_name": "Python 3 (ipykernel)",
   "language": "python",
   "name": "python3"
  }
 },
 "nbformat": 4,
 "nbformat_minor": 5
}
