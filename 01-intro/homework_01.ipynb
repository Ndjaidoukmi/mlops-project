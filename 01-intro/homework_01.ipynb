{
 "cells": [
  {
   "cell_type": "code",
   "execution_count": 1,
   "metadata": {},
   "outputs": [],
   "source": [
    "import pickle\n",
    "import warnings\n",
    "import pandas as pd\n",
    "import seaborn as sns\n",
    "import matplotlib.pyplot as plt\n",
    "from sklearn.feature_extraction import DictVectorizer\n",
    "from sklearn.linear_model import LinearRegression\n",
    "from sklearn.linear_model import Lasso, Ridge\n",
    "from sklearn.metrics import mean_squared_error\n",
    "warnings.filterwarnings(\"ignore\")"
   ]
  },
  {
   "cell_type": "code",
   "execution_count": 2,
   "metadata": {},
   "outputs": [],
   "source": [
    "def read_taxi_data(filename):\n",
    "    data = pd.read_parquet(f\"/home/codespace/dataset/{filename}\")\n",
    "    data.tpep_dropoff_datetime = pd.to_datetime(data.tpep_dropoff_datetime)\n",
    "    data.tpep_pickup_datetime = pd.to_datetime(data.tpep_pickup_datetime)\n",
    "    data[\"duration\"] = data.tpep_dropoff_datetime - data.tpep_pickup_datetime\n",
    "    data.duration = data.duration.apply(lambda x: x.total_seconds()/60)\n",
    "    categorical = ['PULocationID', 'DOLocationID']\n",
    "    data[categorical] = data[categorical].astype(str)   \n",
    "    return data"
   ]
  },
  {
   "cell_type": "markdown",
   "metadata": {},
   "source": [
    "##### LOAD TRAIN & VALIDATION DATA"
   ]
  },
  {
   "cell_type": "code",
   "execution_count": 3,
   "metadata": {},
   "outputs": [],
   "source": [
    "training_file_path = \"yellow_tripdata_2023-01.parquet\"\n",
    "validation_file_path = \"yellow_tripdata_2023-02.parquet\"\n",
    "full_train = read_taxi_data(training_file_path)\n",
    "full_validation = read_taxi_data(validation_file_path)"
   ]
  },
  {
   "cell_type": "code",
   "execution_count": 4,
   "metadata": {},
   "outputs": [
    {
     "name": "stdout",
     "output_type": "stream",
     "text": [
      "Number of columns in the initial dataset is : 19\n"
     ]
    }
   ],
   "source": [
    "#QUESTION - 01\n",
    "print(f\"Number of columns in the initial dataset is : {len(full_train.columns)-1}\") #-1 for duration columns that has been added\n",
    "#Number of columns in the dataset is : 19"
   ]
  },
  {
   "cell_type": "code",
   "execution_count": 5,
   "metadata": {},
   "outputs": [
    {
     "name": "stdout",
     "output_type": "stream",
     "text": [
      "count    3.066766e+06\n",
      "mean     1.566900e+01\n",
      "std      4.259435e+01\n",
      "min     -2.920000e+01\n",
      "25%      7.116667e+00\n",
      "50%      1.151667e+01\n",
      "75%      1.830000e+01\n",
      "max      1.002918e+04\n",
      "Name: duration, dtype: float64\n",
      "---------------\n",
      "Standard deviation of the trips duration in January is 42.59\n"
     ]
    }
   ],
   "source": [
    "#QUESTION - 02\n",
    "\n",
    "print(full_train.duration.describe())\n",
    "print(\"---------------\")\n",
    "print(f\"Standard deviation of the trips duration in January is {round(full_train.duration.describe()['std'], 2)}\")\n",
    "# Standard deviation of the trips duration in January is 42.59"
   ]
  },
  {
   "cell_type": "code",
   "execution_count": 6,
   "metadata": {},
   "outputs": [
    {
     "name": "stdout",
     "output_type": "stream",
     "text": [
      "Fraction of the records left after you dropped the outliers is  98%\n"
     ]
    }
   ],
   "source": [
    "#QUESTION - 03\n",
    "df_train = full_train[(full_train.duration>=1)&(full_train.duration<=60)]\n",
    "fraction_left = round(len(df_train)/len(full_train) * 100)\n",
    "print( f\"Fraction of the records left after you dropped the outliers is  {fraction_left}%\")\n",
    "# Fraction of the records left after you dropped the outliers is  98%"
   ]
  },
  {
   "cell_type": "code",
   "execution_count": 7,
   "metadata": {},
   "outputs": [],
   "source": [
    "#QUESTION - 04\n",
    "categorical = ['PULocationID', 'DOLocationID']\n",
    "dv = DictVectorizer()\n",
    "\n",
    "train_dicts = df_train[categorical].to_dict(orient=\"records\")\n",
    "X_train = dv.fit_transform(train_dicts)\n",
    "    "
   ]
  },
  {
   "cell_type": "code",
   "execution_count": 8,
   "metadata": {},
   "outputs": [
    {
     "name": "stdout",
     "output_type": "stream",
     "text": [
      "The dimensionality of this matrix (number of columns) is 515\n"
     ]
    }
   ],
   "source": [
    "print(f\"The dimensionality of this matrix (number of columns) is {X_train.shape[1]}\")\n",
    "# The dimensionality of this matrix (number of columns) is 515"
   ]
  },
  {
   "cell_type": "code",
   "execution_count": 9,
   "metadata": {},
   "outputs": [
    {
     "name": "stdout",
     "output_type": "stream",
     "text": [
      "RMSE on train: 7.649\n"
     ]
    }
   ],
   "source": [
    "#QUESTION - 05\n",
    "target = \"duration\"\n",
    "\n",
    "lr = LinearRegression()\n",
    "y_train = df_train[target].values\n",
    "lr.fit(X_train, y_train)\n",
    "\n",
    "y_pred = lr.predict(X_train)\n",
    "rms_train = mean_squared_error(y_train, y_pred, squared=False)\n",
    "print (f\"RMSE on train: {round(rms_train, 3)}\")\n",
    "# RMSE on train: 7.649"
   ]
  },
  {
   "cell_type": "code",
   "execution_count": 10,
   "metadata": {},
   "outputs": [
    {
     "name": "stdout",
     "output_type": "stream",
     "text": [
      "RMSE on validation: 7.812\n"
     ]
    }
   ],
   "source": [
    "# QUESTION - 06\n",
    "df_val = full_validation[(full_validation.duration>=1)&(full_validation.duration<=60)]\n",
    "val_dicts = df_val[categorical].to_dict(orient=\"records\")\n",
    "X_val = dv.transform(val_dicts)\n",
    "y_val = df_val[target].values\n",
    "y_pred = lr.predict(X_val)\n",
    "rms_validation = mean_squared_error(y_val, y_pred, squared=False)\n",
    "print (f\"RMSE on validation: {round(rms_validation, 3)}\")\n",
    "# RMSE on validation: 7.812"
   ]
  }
 ],
 "metadata": {
  "kernelspec": {
   "display_name": "Python 3 (ipykernel)",
   "language": "python",
   "name": "python3"
  },
  "language_info": {
   "codemirror_mode": {
    "name": "ipython",
    "version": 3
   },
   "file_extension": ".py",
   "mimetype": "text/x-python",
   "name": "python",
   "nbconvert_exporter": "python",
   "pygments_lexer": "ipython3",
   "version": "3.10.13"
  }
 },
 "nbformat": 4,
 "nbformat_minor": 2
}
